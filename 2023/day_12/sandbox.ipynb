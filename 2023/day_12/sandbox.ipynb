{
 "cells": [
  {
   "cell_type": "code",
   "execution_count": null,
   "metadata": {},
   "outputs": [
    {
     "data": {
      "text/plain": [
       "['3   4', '4   3', '2   5', '1   3', '3   9', '3   3']"
      ]
     },
     "execution_count": 75,
     "metadata": {},
     "output_type": "execute_result"
    }
   ],
   "source": [
    "with open ('sample.txt') as f:\n",
    "    data = [line.rstrip() for line in f.readlines()]"
   ]
  },
  {
   "cell_type": "code",
   "execution_count": 77,
   "metadata": {},
   "outputs": [],
   "source": [
    "with open ('input.txt') as f:\n",
    "    data = [line.rstrip() for line in f.readlines()]"
   ]
  },
  {
   "cell_type": "code",
   "execution_count": 78,
   "metadata": {},
   "outputs": [
    {
     "name": "stdout",
     "output_type": "stream",
     "text": [
      "Part 1 answer: 1258579\n"
     ]
    }
   ],
   "source": [
    "L = []\n",
    "R = []\n",
    "for row in data:\n",
    "    row_split = row.split()\n",
    "    L.append(int(row_split[0]))\n",
    "    R.append(int(row_split[1]))\n",
    "L.sort()\n",
    "R.sort()\n",
    "\n",
    "total_dist = 0\n",
    "for i in range(len(L)):\n",
    "    total_dist += abs(L[i] - R[i])\n",
    "\n",
    "print(f\"Part 1 answer: {total_dist}\")"
   ]
  },
  {
   "cell_type": "code",
   "execution_count": 79,
   "metadata": {},
   "outputs": [
    {
     "name": "stdout",
     "output_type": "stream",
     "text": [
      "Part 2 answer: 23981443\n"
     ]
    }
   ],
   "source": [
    "sim_dict = {}\n",
    "\n",
    "for num in L:\n",
    "    if num not in sim_dict.keys():\n",
    "        sim_dict[num] = [1, 0]\n",
    "    else:\n",
    "        sim_dict[num][0] += 1\n",
    "\n",
    "for num in R:\n",
    "    if num not in sim_dict.keys():\n",
    "        sim_dict[num] = [0, 1]\n",
    "    else:\n",
    "        sim_dict[num][1] += 1\n",
    "\n",
    "sim_score = 0\n",
    "for num in sim_dict.keys():\n",
    "    sim_score += (num * sim_dict[num][0] * sim_dict[num][1])\n",
    "\n",
    "print(f\"Part 2 answer: {sim_score}\")"
   ]
  }
 ],
 "metadata": {
  "kernelspec": {
   "display_name": "Python 3",
   "language": "python",
   "name": "python3"
  },
  "language_info": {
   "codemirror_mode": {
    "name": "ipython",
    "version": 3
   },
   "file_extension": ".py",
   "mimetype": "text/x-python",
   "name": "python",
   "nbconvert_exporter": "python",
   "pygments_lexer": "ipython3",
   "version": "3.8.2"
  }
 },
 "nbformat": 4,
 "nbformat_minor": 2
}
