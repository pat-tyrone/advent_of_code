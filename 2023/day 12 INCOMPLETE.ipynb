{
 "cells": [
  {
   "cell_type": "code",
   "execution_count": 40,
   "metadata": {},
   "outputs": [
    {
     "name": "stdout",
     "output_type": "stream",
     "text": [
      "6\n"
     ]
    }
   ],
   "source": [
    "aoc_data = []\n",
    "with open('example_12.txt') as f:\n",
    "    for line in f:\n",
    "        aoc_data.append(line.rstrip())\n",
    "print(len(aoc_data))"
   ]
  },
  {
   "cell_type": "code",
   "execution_count": 44,
   "metadata": {},
   "outputs": [
    {
     "name": "stdout",
     "output_type": "stream",
     "text": [
      "1000\n"
     ]
    }
   ],
   "source": [
    "aoc_data = []\n",
    "with open('data_12.txt') as f:\n",
    "    for line in f:\n",
    "        aoc_data.append(line.rstrip())\n",
    "\n",
    "print(len(aoc_data))"
   ]
  },
  {
   "cell_type": "code",
   "execution_count": 45,
   "metadata": {},
   "outputs": [
    {
     "name": "stdout",
     "output_type": "stream",
     "text": [
      "1000\n"
     ]
    }
   ],
   "source": [
    "def arr_n(shape, n):\n",
    "    \"\"\"arrange n springs in a given shape; return LOL with leftover shapes resulting from each arrangement\"\"\"\n",
    "    new_shapes = []\n",
    "    temp_shape = '$'+shape+'$'\n",
    "    for i in range(len(shape) - n + 1):\n",
    "        bad_hash_1 = temp_shape[i]\n",
    "        bad_hash_2 = temp_shape[i+n+1]\n",
    "        if bad_hash_1 == '#' or bad_hash_2 == '#':\n",
    "            continue\n",
    "        temp_shape_list = [temp_shape[:i], temp_shape[i+n+2:]]\n",
    "        for j in [0,1]:\n",
    "            temp_shape_list[j] = temp_shape_list[j].replace('$', '')\n",
    "        del temp_shape_list[0]\n",
    "        temp_shape_list = list(filter(lambda x: x != '', temp_shape_list))\n",
    "        new_shapes.append(temp_shape_list)\n",
    "    \n",
    "    return new_shapes\n",
    "\n",
    "import re\n",
    "\n",
    "records = []\n",
    "for record in aoc_data:\n",
    "    diagram = re.split(r'\\.+', record.split(' ')[0].strip('.'))\n",
    "    contigs = [int(x) for x in record.split(' ')[1].split(',')]\n",
    "    records.append([diagram, contigs])\n",
    "\n",
    "print(len(records))"
   ]
  },
  {
   "cell_type": "code",
   "execution_count": 4,
   "metadata": {},
   "outputs": [
    {
     "name": "stdout",
     "output_type": "stream",
     "text": [
      "[['?']]\n"
     ]
    }
   ],
   "source": [
    "print(arr_n('##????', 4))"
   ]
  },
  {
   "cell_type": "code",
   "execution_count": 51,
   "metadata": {},
   "outputs": [
    {
     "name": "stdout",
     "output_type": "stream",
     "text": [
      "\n",
      " NEXT ONE: [['???#??', '?#??', '?'], [2, 2]]\n",
      "trying: ['???#??', '?#??', '?'] / [2, 2]\n",
      "trying: ['#??', '?#??', '?'] / [2]\n",
      "trying: ['?#??', '?'] / []\n",
      "# in leftovers; returned 0\n",
      "trying: ['?', '?'] / []\n",
      "---GOT ONE---\n",
      "trying: ['?'] / []\n",
      "---GOT ONE---\n",
      "trying: ['?', '?#??', '?'] / [2]\n",
      "trying: ['?', '?'] / []\n",
      "---GOT ONE---\n",
      "trying: ['?'] / []\n",
      "---GOT ONE---\n",
      "trying: ['?#??', '?'] / [2]\n",
      "trying: ['?', '?'] / []\n",
      "---GOT ONE---\n",
      "trying: ['?'] / []\n",
      "---GOT ONE---\n",
      "trying: ['?', '?'] / [2]\n",
      "trying: ['?'] / [2]\n",
      "rec_result: 6\n",
      "6\n"
     ]
    }
   ],
   "source": [
    "def check_shapes(shapes, sizes):\n",
    "    print(f\"trying: {shapes} / {sizes}\")\n",
    "    if len(sizes) == 0:\n",
    "        concatenated_leftovers = ''.join(shapes)\n",
    "        if '#' in concatenated_leftovers:\n",
    "            print(\"# in leftovers; returned 0\")\n",
    "            return 0\n",
    "        else:\n",
    "            print(\"---GOT ONE---\")\n",
    "            return 1\n",
    "    elif len(shapes) == 0:\n",
    "        return 0\n",
    "    else:\n",
    "        good_combos = 0\n",
    "        for i, shape in enumerate(shapes):\n",
    "            replacement_shapes = arr_n(shape, sizes[0])\n",
    "            if len(replacement_shapes) == 0:\n",
    "                concatenated_shapes_tried = ''.join(shapes[:i])\n",
    "                if '#' in concatenated_shapes_tried:\n",
    "                    break\n",
    "                else:\n",
    "                    continue\n",
    "            else:\n",
    "                for rep_shape in replacement_shapes:\n",
    "                    new_shapes = rep_shape + shapes[i+1:]\n",
    "                    good_combos += check_shapes(new_shapes, sizes[1:])\n",
    "        return good_combos\n",
    "\n",
    "\n",
    "\n",
    "p1_ans = 0\n",
    "for rec in records[1:2]:\n",
    "    print(f\"\\n NEXT ONE: {rec}\")\n",
    "    rec_result = check_shapes(rec[0], rec[1])\n",
    "    p1_ans += rec_result\n",
    "    print(f\"rec_result: {rec_result}\")\n",
    "\n",
    "\n",
    "print(p1_ans)\n",
    "    "
   ]
  },
  {
   "cell_type": "code",
   "execution_count": 260,
   "metadata": {},
   "outputs": [
    {
     "name": "stdout",
     "output_type": "stream",
     "text": [
      "[2, 4, 1, 3, 4, 3, 2, 3, 1, 1, 3, 2, 3]\n",
      "[3, 2, 1, 5, 4, 5, 3, 5, 3, 5, 6, 2, 3]\n",
      "[3, 2, 5, 5, 2, 4, 5, 6, 5, 4, 2, 5, 4]\n",
      "[3, 4, 4, 6, 5, 8, 5, 8, 4, 5, 4, 5, 2]\n",
      "[4, 5, 4, 6, 6, 5, 7, 8, 6, 7, 5, 3, 6]\n",
      "[1, 4, 3, 8, 5, 9, 8, 7, 9, 8, 4, 5, 4]\n",
      "[4, 4, 5, 7, 8, 7, 6, 9, 8, 7, 7, 6, 6]\n",
      "[3, 6, 3, 7, 8, 7, 7, 9, 7, 9, 6, 5, 3]\n",
      "[4, 6, 5, 4, 9, 6, 7, 9, 8, 6, 8, 8, 7]\n",
      "[4, 5, 6, 4, 6, 7, 9, 9, 8, 6, 4, 5, 3]\n",
      "[1, 2, 2, 4, 6, 8, 6, 8, 6, 5, 5, 6, 3]\n",
      "[2, 5, 4, 6, 5, 4, 8, 8, 8, 7, 7, 3, 5]\n",
      "[4, 3, 2, 2, 6, 7, 4, 6, 5, 5, 5, 3, 3]\n"
     ]
    }
   ],
   "source": [
    "aoc_data = []\n",
    "with open('example_17.txt') as f:\n",
    "    for line in f:\n",
    "        aoc_data.append(line.rstrip())\n",
    "\n",
    "map = [[int(x) for x in list(row)] for row in aoc_data]\n",
    "\n",
    "for i in map:\n",
    "    print(i)"
   ]
  },
  {
   "cell_type": "code",
   "execution_count": 370,
   "metadata": {},
   "outputs": [
    {
     "name": "stdout",
     "output_type": "stream",
     "text": [
      "332\n"
     ]
    }
   ],
   "source": [
    "cache = {}\n",
    "\n",
    "def get_min(grid, rc, last_3=[], visited=None):\n",
    "\n",
    "    if visited == None:\n",
    "        visited = set()\n",
    "\n",
    "    end_rc = (len(grid) - 1, len(grid[0]) - 1)\n",
    "    end_rc_heat_loss = grid[end_rc[0]][end_rc[1]]\n",
    "\n",
    "    if rc == end_rc:\n",
    "        cache[(rc, tuple(last_3))] = end_rc_heat_loss\n",
    "        return end_rc_heat_loss\n",
    "\n",
    "    if (rc, tuple(last_3)) in cache.keys():\n",
    "        return cache[(rc, tuple(last_3))]\n",
    "    \n",
    "    if (rc, tuple(last_3)) in visited:\n",
    "        return None\n",
    "    else:\n",
    "        visited.add((rc, tuple(last_3)))\n",
    "    \n",
    "    dirs = {\n",
    "        (1,0): [(1,0), (0,1), (0,-1)],\n",
    "        (-1,0): [(-1,0), (0,-1), (0,1)],\n",
    "        (0,1): [(0,1), (-1,0), (1,0)],\n",
    "        (0,-1): [(0,-1), (1,0), (-1,0)]\n",
    "    }\n",
    "\n",
    "    if last_3:\n",
    "        last_step_dir = last_3[-1]\n",
    "        next_steps = dirs[last_step_dir]\n",
    "        if len(last_3) == 3 and len(set(last_3)) == 1:\n",
    "            # if you just took three steps in the same direction, you can't step in that direction again.\n",
    "            next_steps.remove(last_step_dir)\n",
    "    else:\n",
    "        next_steps = [(1,0), (-1,0), (0,1), (0,-1)]\n",
    "\n",
    "    poss_heat_losses = []\n",
    "    for ns in next_steps:\n",
    "        next_rc = (rc[0] + ns[0], rc[1] + ns[1])\n",
    "        \n",
    "        if not 0 <= next_rc[0] < len(grid) or not 0 <= next_rc[1] < len(grid[0]):\n",
    "            # if next_rc is outside the bounds of the grid, skip it.\n",
    "            continue\n",
    "        \n",
    "        if len(last_3) == 3:\n",
    "            new_last_3 = last_3[1:] + [ns]\n",
    "        else:\n",
    "            new_last_3 = last_3 + [ns]\n",
    "\n",
    "        if (next_rc, tuple(new_last_3)) in visited:\n",
    "            continue\n",
    "\n",
    "        poss_heat_loss = get_min(grid, next_rc, new_last_3, visited)\n",
    "        if poss_heat_loss != None:\n",
    "            cache[(next_rc, tuple(new_last_3))] = poss_heat_loss\n",
    "            poss_heat_losses.append(poss_heat_loss)\n",
    "    \n",
    "    if poss_heat_losses:\n",
    "        rc_heat_loss = grid[rc[0]][rc[1]] + min(poss_heat_losses)\n",
    "        cache[(rc, tuple(last_3))] = rc_heat_loss\n",
    "        return rc_heat_loss\n",
    "    else:\n",
    "        return None\n",
    "\n",
    "print(get_min(map, (0,0)))"
   ]
  },
  {
   "cell_type": "code",
   "execution_count": 372,
   "metadata": {},
   "outputs": [
    {
     "name": "stdout",
     "output_type": "stream",
     "text": [
      "((11, 11), ((0, -1), (1, 0), (0, 1))) 9\n",
      "((11, 11), ((1, 0), (0, 1), (1, 0))) 9\n",
      "((11, 11), ((-1, 0), (0, 1), (0, 1))) 9\n",
      "((11, 11), ((0, 1), (1, 0), (1, 0))) 21\n",
      "((11, 11), ((1, 0), (0, -1), (1, 0))) 9\n",
      "((11, 11), ((0, -1), (-1, 0), (0, 1))) 9\n",
      "((11, 11), ((0, -1), (1, 0), (1, 0))) 9\n",
      "((11, 11), ((0, 1), (0, 1), (0, 1))) 310\n",
      "((11, 11), ((1, 0), (1, 0), (0, 1))) 11\n",
      "((11, 11), ((0, 1), (1, 0), (0, -1))) 9\n",
      "((11, 11), ((1, 0), (1, 0), (1, 0))) 11\n",
      "((11, 11), ((1, 0), (0, 1), (0, 1))) 11\n",
      "((11, 11), ((1, 0), (1, 0), (0, -1))) 769\n",
      "((11, 11), ((1, 0), (0, 1), (-1, 0))) 11\n",
      "((11, 11), ((0, 1), (0, 1), (-1, 0))) 1178\n"
     ]
    }
   ],
   "source": [
    "for k, v in cache.items():\n",
    "    if k[0] == (11,11):\n",
    "        print(k, v)\n"
   ]
  },
  {
   "cell_type": "code",
   "execution_count": 275,
   "metadata": {},
   "outputs": [
    {
     "name": "stdout",
     "output_type": "stream",
     "text": [
      "False\n",
      "[2, 3, 4, 9, 9, 9, 999]\n",
      "{1, 2, 3, 4, 9}\n",
      "5\n"
     ]
    }
   ],
   "source": [
    "def get_hl(grid, rc, next_3=[], cache={}):\n",
    "    if rc in cache:\n",
    "        return cache[rc]\n",
    "    \n",
    "    end_rc = (len(grid) - 1, len(grid[0]) - 1)\n",
    "    end_rc_heat_loss = grid[end_rc[0]][end_rc[1]]\n",
    "    if rc == end_rc:\n",
    "        cache[rc] = end_rc_heat_loss\n",
    "        return end_rc_heat_loss\n",
    "    \n",
    "    "
   ]
  },
  {
   "cell_type": "code",
   "execution_count": null,
   "metadata": {},
   "outputs": [],
   "source": [
    "import sys\n",
    "\n",
    "# Set a new recursion limit\n",
    "sys.setrecursionlimit(100000)\n",
    "\n",
    "\n",
    "def flood_fill(field, r ,c, old, new):\n",
    "    # we need the x and y of the start position, the old value,\n",
    "    # and the new value\n",
    "    # the flood fill has 4 parts\n",
    "    # firstly, make sure the x and y are inbounds\n",
    "    if not 0 <= r < len(field) or not 0 <= c < len(field[0]):\n",
    "        return\n",
    "    # secondly, check if the current position equals the old value\n",
    "    if field[r][c] != old:\n",
    "        return\n",
    "\n",
    "    # thirdly, set the current position to the new value\n",
    "    field[r][c] = new\n",
    "    # fourthly, attempt to fill the neighboring positions\n",
    "    flood_fill(field, r+1, c, old, new)\n",
    "    flood_fill(field, r-1, c, old, new)\n",
    "    flood_fill(field, r, c+1, old, new)\n",
    "    flood_fill(field, r, c-1, old, new)"
   ]
  },
  {
   "cell_type": "code",
   "execution_count": null,
   "metadata": {},
   "outputs": [],
   "source": [
    "dirs = {\n",
    "    'U': (-1,0),\n",
    "    'D': (1,0),\n",
    "    'L': (0,-1),\n",
    "    'R': (0,1)\n",
    "}\n",
    "\n",
    "p2_dirs = {\n",
    "    '3': (-1,0),\n",
    "    '1': (1,0),\n",
    "    '2': (0,-1),\n",
    "    '0': (0,1)\n",
    "}\n",
    "\n",
    "turns = {\n",
    "    ((1,0),(0,1)): 'LEFT',\n",
    "    ((1,0),(0,-1)): 'RIGHT',\n",
    "    ((-1,0),(0,1)): 'RIGHT',\n",
    "    ((-1,0),(0,-1)): 'LEFT',\n",
    "    ((0,1),(1,0)): 'RIGHT',\n",
    "    ((0,1),(-1,0)): 'LEFT',\n",
    "    ((0,-1),(1,0)): 'LEFT',\n",
    "    ((0,-1),(-1,0)): 'RIGHT'\n",
    "}\n",
    "\n",
    "instrux = [line.split(' ') for line in aoc_data]\n",
    "p2_instrux = []\n",
    "for i, v in enumerate(instrux):\n",
    "    instrux[i][0] = dirs[v[0]]\n",
    "    instrux[i][1] = int(v[1])\n",
    "    instrux[i][2] = v[2].replace('(', '').replace(')', '')\n",
    "\n",
    "    p2_instrux.append([p2_dirs[v[2][-1:]], int(v[2][1:6], 16)])\n",
    "\n",
    "print(p2_instrux)\n",
    "\n",
    "trench_turns = {\n",
    "    'RIGHT': 0,\n",
    "    'LEFT': 0\n",
    "}\n",
    "\n",
    "grid_bounds = {\n",
    "    'rc': [0,0],\n",
    "    'max_r': 0,\n",
    "    'min_r': 0,\n",
    "    'max_c': 0,\n",
    "    'min_c': 0\n",
    "}\n",
    "\n",
    "for i in range(len(instrux)):\n",
    "    if i > 0:\n",
    "        this_dir = instrux[i][0]\n",
    "        prev_dir = instrux[i-1][0]\n",
    "        turn_i = turns[(prev_dir, this_dir)]\n",
    "        trench_turns[turn_i] += 1\n",
    "    \n",
    "    grid_bounds['rc'][0] += instrux[i][0][0] * instrux[i][1]\n",
    "    grid_bounds['rc'][1] += instrux[i][0][1] * instrux[i][1]\n",
    "\n",
    "    grid_bounds['max_r'] = max(grid_bounds['max_r'], grid_bounds['rc'][0])\n",
    "    grid_bounds['min_r'] = min(grid_bounds['min_r'], grid_bounds['rc'][0])\n",
    "    grid_bounds['max_c'] = max(grid_bounds['max_c'], grid_bounds['rc'][1])\n",
    "    grid_bounds['min_c'] = min(grid_bounds['min_c'], grid_bounds['rc'][1])\n",
    "\n",
    "\n",
    "turn_direction = ''\n",
    "turn_count = 0\n",
    "for k, v in trench_turns.items():\n",
    "    if v > turn_count:\n",
    "        turn_direction = k\n",
    "        turn_count = v\n",
    "\n",
    "\n",
    "if turn_direction == 'RIGHT':\n",
    "    inside_walls = {\n",
    "        # direction: where inside wall is relative to rc\n",
    "        (1,0): (0,-1),\n",
    "        (-1,0): (0,1),\n",
    "        (0,1): (1,0),\n",
    "        (0,-1): (-1,0)\n",
    "    }\n",
    "else:\n",
    "    inside_walls = {\n",
    "        (1,0): (0,1),\n",
    "        (-1,0): (0,-1),\n",
    "        (0,1): (-1,0),\n",
    "        (0,-1): (1,0)\n",
    "    }\n",
    "\n",
    "num_rows = 1 + grid_bounds['max_r'] + abs(grid_bounds['min_r'])\n",
    "num_cols = 1 + grid_bounds['max_c'] + abs(grid_bounds['min_c'])\n",
    "\n",
    "\n",
    "grid = []\n",
    "for r in range(num_rows):\n",
    "    grid.append([0] * num_cols)\n",
    "\n",
    "start_rc = (grid_bounds['min_r'] * -1, grid_bounds['min_c'] * -1)\n",
    "\n",
    "rc = list(start_rc)\n",
    "grid[rc[0]][rc[1]] = 1\n",
    "walls = {tuple(rc): (0,0)}\n",
    "for instruct in instrux:\n",
    "    for i in range(instruct[1]):\n",
    "        rc[0] += instruct[0][0]\n",
    "        rc[1] += instruct[0][1]\n",
    "        grid[rc[0]][rc[1]] = 1\n",
    "        walls[tuple(rc)] = instruct[0]\n",
    "\n",
    "\n",
    "for wall_rc, wall_dir in walls.items():\n",
    "    inside_wall_dir = inside_walls[wall_dir]\n",
    "    inside_wall = (wall_rc[0] + inside_wall_dir[0], wall_rc[1] + inside_wall_dir[1])\n",
    "    if grid[inside_wall[0]][inside_wall[1]] == 0:\n",
    "        flood_fill(grid, inside_wall[0], inside_wall[1], 0, 1)\n",
    "\n",
    "\n",
    "p1_ans = 0\n",
    "for row in grid:\n",
    "    for c in row:\n",
    "        p1_ans += c\n",
    "print(p1_ans)"
   ]
  }
 ],
 "metadata": {
  "kernelspec": {
   "display_name": "Python 3",
   "language": "python",
   "name": "python3"
  },
  "language_info": {
   "codemirror_mode": {
    "name": "ipython",
    "version": 3
   },
   "file_extension": ".py",
   "mimetype": "text/x-python",
   "name": "python",
   "nbconvert_exporter": "python",
   "pygments_lexer": "ipython3",
   "version": "3.8.2"
  },
  "orig_nbformat": 4,
  "vscode": {
   "interpreter": {
    "hash": "6d1e45cadc3597bb8b6600530fbdf8c3eefe919a24ef54d9d32b318795b772e0"
   }
  }
 },
 "nbformat": 4,
 "nbformat_minor": 2
}
