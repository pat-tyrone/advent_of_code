{
 "cells": [
  {
   "cell_type": "code",
   "execution_count": 19,
   "metadata": {},
   "outputs": [],
   "source": [
    "aoc_data = []\n",
    "with open('example_08.txt') as f:\n",
    "    for line in f:\n",
    "        aoc_data.append(line.rstrip())"
   ]
  },
  {
   "cell_type": "code",
   "execution_count": 29,
   "metadata": {},
   "outputs": [],
   "source": [
    "aoc_data = []\n",
    "with open('data_08.txt') as f:\n",
    "    for line in f:\n",
    "        aoc_data.append(line.rstrip())"
   ]
  },
  {
   "cell_type": "code",
   "execution_count": 42,
   "metadata": {},
   "outputs": [
    {
     "name": "stdout",
     "output_type": "stream",
     "text": [
      "16187743689077\n"
     ]
    }
   ],
   "source": [
    "def get_lcm(list_of_ints):\n",
    "    big = max(list_of_ints)\n",
    "    list_of_ints.remove(big)\n",
    "    while list_of_ints:\n",
    "        next_big = max(list_of_ints)\n",
    "        list_of_ints.remove(next_big)\n",
    "\n",
    "        x = 0\n",
    "        while True:\n",
    "            x += big\n",
    "            if x % next_big == 0:\n",
    "                big = x\n",
    "                break\n",
    "    \n",
    "    return big\n",
    "\n",
    "ints = [15871, 19637, 12643, 14257, 21251, 19099]\n",
    "print(get_lcm(ints))"
   ]
  },
  {
   "cell_type": "code",
   "execution_count": 36,
   "metadata": {},
   "outputs": [
    {
     "name": "stdout",
     "output_type": "stream",
     "text": [
      "19099 - HRZ\n",
      "38198 - HRZ\n",
      "57297 - HRZ\n",
      "76396 - HRZ\n",
      "95495 - HRZ\n",
      "114594 - HRZ\n",
      "133693 - HRZ\n",
      "152792 - HRZ\n",
      "171891 - HRZ\n",
      "190990 - HRZ\n",
      "210089 - HRZ\n"
     ]
    }
   ],
   "source": [
    "def get_next(dict, lr, elem):\n",
    "    if lr == 'L':\n",
    "        return dict[elem][0]\n",
    "    else:\n",
    "        return dict[elem][1]\n",
    "\n",
    "lr_dir = [letter for letter in aoc_data[0]]\n",
    "\n",
    "node_dict = {}\n",
    "for elem in aoc_data[2:]:\n",
    "    addr = elem.split(' = ')[0]\n",
    "    node_dict[addr] = elem.split(' = ')[1][1:-1].split(', ')\n",
    "\n",
    "element = 'NJA'\n",
    "lr_len = len(lr_dir)\n",
    "j = 0\n",
    "prints = 0\n",
    "while True:\n",
    "    idx = j % lr_len\n",
    "    next_elem = get_next(node_dict, lr_dir[idx], element)\n",
    "\n",
    "    if next_elem[-1] == 'Z':\n",
    "        print(f\"{j+1} - {next_elem}\")\n",
    "        prints += 1\n",
    "\n",
    "    element = next_elem\n",
    "    j += 1\n",
    "    \n",
    "    if prints > 10:\n",
    "        break"
   ]
  },
  {
   "cell_type": "code",
   "execution_count": 11,
   "metadata": {},
   "outputs": [
    {
     "name": "stdout",
     "output_type": "stream",
     "text": [
      "14257\n"
     ]
    }
   ],
   "source": [
    "def get_next(dict, lr, elem):\n",
    "    if lr == 'L':\n",
    "        return dict[elem][0]\n",
    "    else:\n",
    "        return dict[elem][1]\n",
    "\n",
    "lr_dir = [letter for letter in aoc_data[0]]\n",
    "\n",
    "elem_dict = {}\n",
    "for elem in aoc_data[2:]:\n",
    "    addr = elem.split(' = ')[0]\n",
    "    elem_dict[addr] = elem.split(' = ')[1][1:-1].split(', ')\n",
    "\n",
    "element = 'AAA'\n",
    "found_zzz = False\n",
    "lr_len = len(lr_dir)\n",
    "i = 0\n",
    "while not found_zzz:\n",
    "    idx = i % lr_len\n",
    "    next_elem = get_next(elem_dict, lr_dir[idx], element)\n",
    "    if next_elem == 'ZZZ':\n",
    "        p1_answer = i+1\n",
    "        print(p1_answer)\n",
    "        found_zzz = True\n",
    "        break\n",
    "    else:\n",
    "        element = next_elem\n",
    "        i += 1"
   ]
  }
 ],
 "metadata": {
  "kernelspec": {
   "display_name": "Python 3",
   "language": "python",
   "name": "python3"
  },
  "language_info": {
   "codemirror_mode": {
    "name": "ipython",
    "version": 3
   },
   "file_extension": ".py",
   "mimetype": "text/x-python",
   "name": "python",
   "nbconvert_exporter": "python",
   "pygments_lexer": "ipython3",
   "version": "3.8.2"
  },
  "orig_nbformat": 4,
  "vscode": {
   "interpreter": {
    "hash": "6d1e45cadc3597bb8b6600530fbdf8c3eefe919a24ef54d9d32b318795b772e0"
   }
  }
 },
 "nbformat": 4,
 "nbformat_minor": 2
}
